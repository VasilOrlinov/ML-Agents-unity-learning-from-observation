{
 "cells": [
  {
   "cell_type": "markdown",
   "metadata": {},
   "source": [
    "# Unity ML Agents\n",
    "## Proximal Policy Optimization (PPO)\n",
    "Contains an implementation of PPO as described [here](https://arxiv.org/abs/1707.06347)."
   ]
  },
  {
   "cell_type": "code",
   "execution_count": 1,
   "metadata": {
    "collapsed": true
   },
   "outputs": [],
   "source": [
    "import numpy as np\n",
    "import os\n",
    "import tensorflow as tf\n",
    "\n",
    "from ppo.history import *\n",
    "from ppo.models import *\n",
    "from ppo.trainer import Trainer\n",
    "from unityagents import *"
   ]
  },
  {
   "cell_type": "markdown",
   "metadata": {},
   "source": [
    "### Hyperparameters"
   ]
  },
  {
   "cell_type": "code",
   "execution_count": 2,
   "metadata": {
    "collapsed": true
   },
   "outputs": [],
   "source": [
    "### General parameters\n",
    "max_steps = 5e5 # Set maximum number of steps to run environment.\n",
    "run_path = \"ppo\" # The sub-directory name for model and summary statistics\n",
    "load_model = False # Whether to load a saved model.\n",
    "train_model = True # Whether to train the model.\n",
    "summary_freq = 10000 # Frequency at which to save training statistics.\n",
    "save_freq = 50000 # Frequency at which to save model.\n",
    "env_name = \"test3\" # Name of the training environment file.\n",
    "curriculum_file = None\n",
    "\n",
    "### Algorithm-specific parameters for tuning\n",
    "gamma = 0.99 # Reward discount rate.\n",
    "lambd = 0.95 # Lambda parameter for GAE.\n",
    "time_horizon = 2048 # How many steps to collect per agent before adding to buffer.\n",
    "beta = 1e-3 # Strength of entropy regularization\n",
    "num_epoch = 5 # Number of gradient descent steps per batch of experiences.\n",
    "num_layers = 2 # Number of hidden layers between state/observation encoding and value/policy layers.\n",
    "epsilon = 0.2 # Acceptable threshold around ratio of old and new policy probabilities.\n",
    "buffer_size = 2048 # How large the experience buffer should be before gradient descent.\n",
    "learning_rate = 3e-4 # Model learning rate.\n",
    "hidden_units = 128 # Number of units in hidden layer.\n",
    "batch_size = 64 # How many experiences per gradient descent update step.\n",
    "normalize = False\n",
    "\n",
    "### Logging dictionary for hyperparameters\n",
    "hyperparameter_dict = {'max_steps':max_steps, 'run_path':run_path, 'env_name':env_name,\n",
    "    'curriculum_file':curriculum_file, 'gamma':gamma, 'lambd':lambd, 'time_horizon':time_horizon,\n",
    "    'beta':beta, 'num_epoch':num_epoch, 'epsilon':epsilon, 'buffe_size':buffer_size,\n",
    "    'learning_rate':learning_rate, 'hidden_units':hidden_units, 'batch_size':batch_size}"
   ]
  },
  {
   "cell_type": "markdown",
   "metadata": {},
   "source": [
    "### Load the environment"
   ]
  },
  {
   "cell_type": "code",
   "execution_count": 3,
   "metadata": {},
   "outputs": [
    {
     "name": "stderr",
     "output_type": "stream",
     "text": [
      "INFO:unityagents:\n",
      "'Academy' started successfully!\n"
     ]
    },
    {
     "name": "stdout",
     "output_type": "stream",
     "text": [
      "Unity Academy name: Academy\n",
      "        Number of brains: 1\n",
      "        Reset Parameters :\n",
      "\t\t\n",
      "Unity brain name: Brain\n",
      "        Number of observations (per agent): 1\n",
      "        State space type: continuous\n",
      "        State space size (per agent): 0\n",
      "        Action space type: discrete\n",
      "        Action space size (per agent): 2\n",
      "        Memory space size (per agent): 0\n",
      "        Action descriptions: , \n"
     ]
    }
   ],
   "source": [
    "env = UnityEnvironment(file_name=env_name, curriculum=curriculum_file)\n",
    "print(str(env))\n",
    "brain_name = env.external_brain_names[0]"
   ]
  },
  {
   "cell_type": "markdown",
   "metadata": {},
   "source": [
    "### Train the Agent(s)"
   ]
  },
  {
   "cell_type": "code",
   "execution_count": 4,
   "metadata": {
    "scrolled": true
   },
   "outputs": [
    {
     "name": "stdout",
     "output_type": "stream",
     "text": [
      "Step: 10000. Mean Reward: 0.09765528589058. Std of Reward: 0.14977926323843008.\n",
      "Step: 20000. Mean Reward: 0.12025264873675633. Std of Reward: 0.12375450130162416.\n",
      "Step: 30000. Mean Reward: 0.14874026568941823. Std of Reward: 0.08618242200629034.\n",
      "Step: 40000. Mean Reward: 0.16379036527263108. Std of Reward: 0.0691905134328325.\n",
      "Step: 50000. Mean Reward: 0.17501483679525223. Std of Reward: 0.055648988031142835.\n",
      "Saved Model\n",
      "Step: 60000. Mean Reward: 0.17804054054054055. Std of Reward: 0.05157202761323476.\n",
      "Step: 70000. Mean Reward: 0.18276856524873827. Std of Reward: 0.04507598894867068.\n",
      "Step: 80000. Mean Reward: 0.18281758957654723. Std of Reward: 0.04464345850934044.\n",
      "Step: 90000. Mean Reward: 0.1856115107913669. Std of Reward: 0.04144190885984531.\n",
      "Step: 100000. Mean Reward: 0.18476454293628808. Std of Reward: 0.041870121465230566.\n",
      "Saved Model\n",
      "Step: 110000. Mean Reward: 0.18932764140875136. Std of Reward: 0.034158217064853384.\n",
      "Step: 120000. Mean Reward: 0.18892580287929128. Std of Reward: 0.03567507526748876.\n",
      "Step: 130000. Mean Reward: 0.1910785619174434. Std of Reward: 0.02942471865125568.\n",
      "Step: 140000. Mean Reward: 0.19116847826086955. Std of Reward: 0.0323994076346407.\n",
      "Step: 150000. Mean Reward: 0.19371508379888266. Std of Reward: 0.026471178516116047.\n",
      "Saved Model\n",
      "Step: 160000. Mean Reward: 0.19178807947019866. Std of Reward: 0.03107534302294481.\n",
      "Step: 170000. Mean Reward: 0.1910344827586207. Std of Reward: 0.03262586530348931.\n",
      "Step: 180000. Mean Reward: 0.19305135951661628. Std of Reward: 0.027702461356731482.\n",
      "Step: 190000. Mean Reward: 0.18990963855421683. Std of Reward: 0.03343746587236752.\n",
      "Step: 200000. Mean Reward: 0.1909647779479326. Std of Reward: 0.03073106657973873.\n",
      "Saved Model\n",
      "Step: 210000. Mean Reward: 0.1931637519872814. Std of Reward: 0.025236689845945747.\n",
      "Step: 220000. Mean Reward: 0.1936893203883495. Std of Reward: 0.02497209930204253.\n",
      "Step: 230000. Mean Reward: 0.19382504288164662. Std of Reward: 0.026769140548747038.\n",
      "Step: 240000. Mean Reward: 0.19299999999999998. Std of Reward: 0.028005951748393296.\n",
      "Step: 250000. Mean Reward: 0.19584837545126352. Std of Reward: 0.019948094357105265.\n",
      "Saved Model\n",
      "Step: 260000. Mean Reward: 0.19517470881863558. Std of Reward: 0.022930360302099457.\n",
      "Step: 270000. Mean Reward: 0.19221238938053095. Std of Reward: 0.029918311002276078.\n",
      "Step: 280000. Mean Reward: 0.19492187500000002. Std of Reward: 0.022827344271385903.\n",
      "Step: 290000. Mean Reward: 0.19620758483033934. Std of Reward: 0.019101285405621147.\n",
      "Step: 300000. Mean Reward: 0.19437386569872955. Std of Reward: 0.02529531507831406.\n",
      "Saved Model\n",
      "Step: 310000. Mean Reward: 0.19348739495798323. Std of Reward: 0.02551202239123874.\n",
      "Step: 320000. Mean Reward: 0.19557522123893806. Std of Reward: 0.021613583613840377.\n",
      "Step: 330000. Mean Reward: 0.19386138613861387. Std of Reward: 0.025600522002324304.\n",
      "Step: 340000. Mean Reward: 0.19482352941176473. Std of Reward: 0.02418612945742845.\n",
      "Step: 350000. Mean Reward: 0.19368635437881873. Std of Reward: 0.024320823199231248.\n",
      "Saved Model\n",
      "Step: 360000. Mean Reward: 0.1940357852882704. Std of Reward: 0.025305581931036714.\n",
      "Step: 370000. Mean Reward: 0.19408163265306125. Std of Reward: 0.024446390105109152.\n",
      "Step: 380000. Mean Reward: 0.19448818897637798. Std of Reward: 0.024485530402308997.\n",
      "Step: 390000. Mean Reward: 0.1951020408163265. Std of Reward: 0.02339740513953717.\n",
      "Step: 400000. Mean Reward: 0.19608294930875578. Std of Reward: 0.02164550026273725.\n",
      "Saved Model\n",
      "Step: 410000. Mean Reward: 0.19546436285097193. Std of Reward: 0.020808452863083415.\n",
      "Step: 420000. Mean Reward: 0.19566115702479342. Std of Reward: 0.02037299043236317.\n",
      "Step: 430000. Mean Reward: 0.19458333333333336. Std of Reward: 0.023537057070831.\n",
      "Step: 440000. Mean Reward: 0.19566160520607376. Std of Reward: 0.021410318959415822.\n",
      "Step: 450000. Mean Reward: 0.193265306122449. Std of Reward: 0.025062188374736533.\n",
      "Saved Model\n",
      "Step: 460000. Mean Reward: 0.19317180616740093. Std of Reward: 0.03000853766615607.\n",
      "Step: 470000. Mean Reward: 0.19450549450549454. Std of Reward: 0.022787298190470026.\n",
      "Step: 480000. Mean Reward: 0.19433962264150945. Std of Reward: 0.024107419507887997.\n",
      "Step: 490000. Mean Reward: 0.19558823529411767. Std of Reward: 0.02153438203178478.\n",
      "Step: 500000. Mean Reward: 0.19407894736842105. Std of Reward: 0.024513385078662103.\n",
      "Saved Model\n",
      "Saved Model\n",
      "INFO:tensorflow:Restoring parameters from ./models/ppo\\model-500001.cptk\n"
     ]
    },
    {
     "name": "stderr",
     "output_type": "stream",
     "text": [
      "INFO:tensorflow:Restoring parameters from ./models/ppo\\model-500001.cptk\n"
     ]
    },
    {
     "name": "stdout",
     "output_type": "stream",
     "text": [
      "INFO:tensorflow:Froze 6 variables.\n"
     ]
    },
    {
     "name": "stderr",
     "output_type": "stream",
     "text": [
      "INFO:tensorflow:Froze 6 variables.\n"
     ]
    },
    {
     "name": "stdout",
     "output_type": "stream",
     "text": [
      "Converted 6 variables to const ops.\n"
     ]
    }
   ],
   "source": [
    "tf.reset_default_graph()\n",
    "\n",
    "if curriculum_file == \"None\":\n",
    "    curriculum_file = None\n",
    "\n",
    "\n",
    "def get_progress():\n",
    "    if curriculum_file is not None:\n",
    "        if env._curriculum.measure_type == \"progress\":\n",
    "            return steps / max_steps\n",
    "        elif env._curriculum.measure_type == \"reward\":\n",
    "            return last_reward\n",
    "        else:\n",
    "            return None\n",
    "    else:\n",
    "        return None\n",
    "\n",
    "# Create the Tensorflow model graph\n",
    "ppo_model = create_agent_model(env, lr=learning_rate,\n",
    "                               h_size=hidden_units, epsilon=epsilon,\n",
    "                               beta=beta, max_step=max_steps, \n",
    "                               normalize=normalize, num_layers=num_layers)\n",
    "\n",
    "is_continuous = (env.brains[brain_name].action_space_type == \"continuous\")\n",
    "use_observations = (env.brains[brain_name].number_observations > 0)\n",
    "use_states = (env.brains[brain_name].state_space_size > 0)\n",
    "\n",
    "model_path = './models/{}'.format(run_path)\n",
    "summary_path = './summaries/{}'.format(run_path)\n",
    "\n",
    "if not os.path.exists(model_path):\n",
    "    os.makedirs(model_path)\n",
    "\n",
    "if not os.path.exists(summary_path):\n",
    "    os.makedirs(summary_path)\n",
    "\n",
    "init = tf.global_variables_initializer()\n",
    "saver = tf.train.Saver()\n",
    "\n",
    "with tf.Session() as sess:\n",
    "    # Instantiate model parameters\n",
    "    if load_model:\n",
    "        print('Loading Model...')\n",
    "        ckpt = tf.train.get_checkpoint_state(model_path)\n",
    "        saver.restore(sess, ckpt.model_checkpoint_path)\n",
    "    else:\n",
    "        sess.run(init)\n",
    "    steps, last_reward = sess.run([ppo_model.global_step, ppo_model.last_reward])    \n",
    "    summary_writer = tf.summary.FileWriter(summary_path)\n",
    "    info = env.reset(train_mode=train_model, progress=get_progress())[brain_name]\n",
    "    trainer = Trainer(ppo_model, sess, info, is_continuous, use_observations, use_states, train_model)\n",
    "    if train_model:\n",
    "        trainer.write_text(summary_writer, 'Hyperparameters', hyperparameter_dict, steps)\n",
    "    while steps <= max_steps:\n",
    "        if env.global_done:\n",
    "            info = env.reset(train_mode=train_model, progress=get_progress())[brain_name]\n",
    "        # Decide and take an action\n",
    "        new_info = trainer.take_action(info, env, brain_name, steps, normalize)\n",
    "        info = new_info\n",
    "        trainer.process_experiences(info, time_horizon, gamma, lambd)\n",
    "        if len(trainer.training_buffer['actions']) > buffer_size and train_model:\n",
    "            # Perform gradient descent with experience buffer\n",
    "            trainer.update_model(batch_size, num_epoch)\n",
    "        if steps % summary_freq == 0 and steps != 0 and train_model:\n",
    "            # Write training statistics to tensorboard.\n",
    "            trainer.write_summary(summary_writer, steps, env._curriculum.lesson_number)\n",
    "        if steps % save_freq == 0 and steps != 0 and train_model:\n",
    "            # Save Tensorflow model\n",
    "            save_model(sess, model_path=model_path, steps=steps, saver=saver)\n",
    "        steps += 1\n",
    "        sess.run(ppo_model.increment_step)\n",
    "        if len(trainer.stats['cumulative_reward']) > 0:\n",
    "            mean_reward = np.mean(trainer.stats['cumulative_reward'])\n",
    "            sess.run(ppo_model.update_reward, feed_dict={ppo_model.new_reward: mean_reward})\n",
    "            last_reward = sess.run(ppo_model.last_reward)\n",
    "    # Final save Tensorflow model\n",
    "    if steps != 0 and train_model:\n",
    "        save_model(sess, model_path=model_path, steps=steps, saver=saver)\n",
    "env.close()\n",
    "export_graph(model_path, env_name)"
   ]
  },
  {
   "cell_type": "markdown",
   "metadata": {},
   "source": [
    "### Export the trained Tensorflow graph\n",
    "Once the model has been trained and saved, we can export it as a .bytes file which Unity can embed."
   ]
  },
  {
   "cell_type": "code",
   "execution_count": 5,
   "metadata": {
    "scrolled": true
   },
   "outputs": [
    {
     "name": "stdout",
     "output_type": "stream",
     "text": [
      "INFO:tensorflow:Restoring parameters from ./models/ppo\\model-500001.cptk\n"
     ]
    },
    {
     "name": "stderr",
     "output_type": "stream",
     "text": [
      "INFO:tensorflow:Restoring parameters from ./models/ppo\\model-500001.cptk\n"
     ]
    },
    {
     "name": "stdout",
     "output_type": "stream",
     "text": [
      "INFO:tensorflow:Froze 6 variables.\n"
     ]
    },
    {
     "name": "stderr",
     "output_type": "stream",
     "text": [
      "INFO:tensorflow:Froze 6 variables.\n"
     ]
    },
    {
     "name": "stdout",
     "output_type": "stream",
     "text": [
      "Converted 6 variables to const ops.\n"
     ]
    }
   ],
   "source": [
    "export_graph(model_path, env_name)"
   ]
  },
  {
   "cell_type": "code",
   "execution_count": null,
   "metadata": {
    "collapsed": true
   },
   "outputs": [],
   "source": []
  }
 ],
 "metadata": {
  "anaconda-cloud": {},
  "kernelspec": {
   "display_name": "Python 3",
   "language": "python",
   "name": "python3"
  },
  "language_info": {
   "codemirror_mode": {
    "name": "ipython",
    "version": 3
   },
   "file_extension": ".py",
   "mimetype": "text/x-python",
   "name": "python",
   "nbconvert_exporter": "python",
   "pygments_lexer": "ipython3",
   "version": "3.6.3"
  }
 },
 "nbformat": 4,
 "nbformat_minor": 1
}
